{
 "cells": [
  {
   "cell_type": "code",
   "execution_count": 70,
   "id": "aea3f753",
   "metadata": {},
   "outputs": [],
   "source": [
    "# Importing packages\n",
    "\n",
    "import numpy as np\n",
    "import pandas as pd\n",
    "from time_converter import Time\n",
    "import wget\n",
    "import time\n",
    "import json\n",
    "import gzip\n",
    "import re\n",
    "import pandasql as psql"
   ]
  },
  {
   "cell_type": "code",
   "execution_count": null,
   "id": "9d402b21",
   "metadata": {},
   "outputs": [],
   "source": [
    "filelist = {\"usersdf\":\"users.json.gz\",\"receiptsdf\":\"receipts.json.gz\",\"brandsdf\":\"brands.json.gz\"}"
   ]
  },
  {
   "cell_type": "markdown",
   "id": "287b652f",
   "metadata": {},
   "source": [
    "## Users data  \n",
    "### Cleaning and Conversion"
   ]
  },
  {
   "cell_type": "code",
   "execution_count": 2,
   "id": "20c5a875",
   "metadata": {},
   "outputs": [],
   "source": [
    "# Unzipping and converting json to csv\n",
    "dfdata = []\n",
    "with gzip.open(\"users.json.gz\") as data:\n",
    "    for i in data:\n",
    "        dfdata.append(json.loads(i.strip()))\n",
    "    user = pd.json_normalize(dfdata)"
   ]
  },
  {
   "cell_type": "code",
   "execution_count": 3,
   "id": "541ac724",
   "metadata": {},
   "outputs": [
    {
     "data": {
      "text/html": [
       "<div>\n",
       "<style scoped>\n",
       "    .dataframe tbody tr th:only-of-type {\n",
       "        vertical-align: middle;\n",
       "    }\n",
       "\n",
       "    .dataframe tbody tr th {\n",
       "        vertical-align: top;\n",
       "    }\n",
       "\n",
       "    .dataframe thead th {\n",
       "        text-align: right;\n",
       "    }\n",
       "</style>\n",
       "<table border=\"1\" class=\"dataframe\">\n",
       "  <thead>\n",
       "    <tr style=\"text-align: right;\">\n",
       "      <th></th>\n",
       "      <th>active</th>\n",
       "      <th>role</th>\n",
       "      <th>signUpSource</th>\n",
       "      <th>state</th>\n",
       "      <th>_id.$oid</th>\n",
       "      <th>createdDate.$date</th>\n",
       "      <th>lastLogin.$date</th>\n",
       "    </tr>\n",
       "  </thead>\n",
       "  <tbody>\n",
       "    <tr>\n",
       "      <th>0</th>\n",
       "      <td>True</td>\n",
       "      <td>consumer</td>\n",
       "      <td>Email</td>\n",
       "      <td>WI</td>\n",
       "      <td>5ff1e194b6a9d73a3a9f1052</td>\n",
       "      <td>1609687444800</td>\n",
       "      <td>1.609688e+12</td>\n",
       "    </tr>\n",
       "    <tr>\n",
       "      <th>1</th>\n",
       "      <td>True</td>\n",
       "      <td>consumer</td>\n",
       "      <td>Email</td>\n",
       "      <td>WI</td>\n",
       "      <td>5ff1e194b6a9d73a3a9f1052</td>\n",
       "      <td>1609687444800</td>\n",
       "      <td>1.609688e+12</td>\n",
       "    </tr>\n",
       "    <tr>\n",
       "      <th>2</th>\n",
       "      <td>True</td>\n",
       "      <td>consumer</td>\n",
       "      <td>Email</td>\n",
       "      <td>WI</td>\n",
       "      <td>5ff1e194b6a9d73a3a9f1052</td>\n",
       "      <td>1609687444800</td>\n",
       "      <td>1.609688e+12</td>\n",
       "    </tr>\n",
       "    <tr>\n",
       "      <th>3</th>\n",
       "      <td>True</td>\n",
       "      <td>consumer</td>\n",
       "      <td>Email</td>\n",
       "      <td>WI</td>\n",
       "      <td>5ff1e1eacfcf6c399c274ae6</td>\n",
       "      <td>1609687530554</td>\n",
       "      <td>1.609688e+12</td>\n",
       "    </tr>\n",
       "    <tr>\n",
       "      <th>4</th>\n",
       "      <td>True</td>\n",
       "      <td>consumer</td>\n",
       "      <td>Email</td>\n",
       "      <td>WI</td>\n",
       "      <td>5ff1e194b6a9d73a3a9f1052</td>\n",
       "      <td>1609687444800</td>\n",
       "      <td>1.609688e+12</td>\n",
       "    </tr>\n",
       "  </tbody>\n",
       "</table>\n",
       "</div>"
      ],
      "text/plain": [
       "   active      role signUpSource state                  _id.$oid  \\\n",
       "0    True  consumer        Email    WI  5ff1e194b6a9d73a3a9f1052   \n",
       "1    True  consumer        Email    WI  5ff1e194b6a9d73a3a9f1052   \n",
       "2    True  consumer        Email    WI  5ff1e194b6a9d73a3a9f1052   \n",
       "3    True  consumer        Email    WI  5ff1e1eacfcf6c399c274ae6   \n",
       "4    True  consumer        Email    WI  5ff1e194b6a9d73a3a9f1052   \n",
       "\n",
       "   createdDate.$date  lastLogin.$date  \n",
       "0      1609687444800     1.609688e+12  \n",
       "1      1609687444800     1.609688e+12  \n",
       "2      1609687444800     1.609688e+12  \n",
       "3      1609687530554     1.609688e+12  \n",
       "4      1609687444800     1.609688e+12  "
      ]
     },
     "execution_count": 3,
     "metadata": {},
     "output_type": "execute_result"
    }
   ],
   "source": [
    "user.head()"
   ]
  },
  {
   "cell_type": "code",
   "execution_count": null,
   "id": "d2f128da",
   "metadata": {},
   "outputs": [],
   "source": [
    "#user.info()"
   ]
  },
  {
   "cell_type": "code",
   "execution_count": null,
   "id": "00ce11b5",
   "metadata": {},
   "outputs": [],
   "source": [
    "#users.to_csv('users.csv')"
   ]
  },
  {
   "cell_type": "markdown",
   "id": "475b3bce",
   "metadata": {},
   "source": [
    "####  This below function aims at extracting, processing, and cleaning date-related information from a specified column in a DataFrame"
   ]
  },
  {
   "cell_type": "code",
   "execution_count": 4,
   "id": "b49046c3",
   "metadata": {},
   "outputs": [],
   "source": [
    "#This function is designed to process and clean a list of date-related data\n",
    "\n",
    "def cleanDateLog(id_data, column=None):\n",
    "    id_list = list(id_data[f'{column}'].to_dict().values())\n",
    "    timeslist = []\n",
    "    dateslist = []\n",
    "    for i in range(len(id_list)):\n",
    "        try: \n",
    "            \n",
    "            date_parsed = id_list[i].replace('}', \"\").split(':')[1].replace(\" \", \"\")\n",
    "            date_converted = Time(int(date_parsed[:10]), 'posix').to('dt')\n",
    "            format_date = \"%m/%d/%Y\"\n",
    "            format_time = \"%H:%M:%S\"\n",
    "            new_date = date_converted.strftime(format_date)\n",
    "            new_time = date_converted.strftime(format_time)\n",
    "            timeslist.append(new_time)\n",
    "            dateslist.append(new_date)\n",
    "        except AttributeError:\n",
    "            \n",
    "            date_parsed = str(id_list[i])\n",
    "            dateslist.append(date_parsed)\n",
    "            \n",
    "    return dateslist"
   ]
  },
  {
   "cell_type": "markdown",
   "id": "dbea0894",
   "metadata": {},
   "source": [
    "#### The purpose of below function is to extract ID strings from a specified column, and then parse out and clean the names enclosed within single quotes from each ID string. The extracted names are stored in a list and returned as the result of the function."
   ]
  },
  {
   "cell_type": "code",
   "execution_count": 5,
   "id": "5ede3869",
   "metadata": {},
   "outputs": [],
   "source": [
    "# This function cleans and process a list of strings containing IDs\n",
    "\n",
    "def clean_id_cpg(id_data, column=None):\n",
    "    id_list = list(id_data[column].to_dict().values())\n",
    "    cleaned_list = []\n",
    "    \n",
    "    for id_item in id_list:\n",
    "        parsed_names = re.findall(\"'([^']*)'\", id_item)\n",
    "        if parsed_names:\n",
    "            cleaned_list.append(parsed_names[-1])\n",
    "    \n",
    "    return cleaned_list\n"
   ]
  },
  {
   "cell_type": "markdown",
   "id": "8f31a81f",
   "metadata": {},
   "source": [
    "#### This function performs  cleaning and conversion steps on the data using clean_id_cpg and cleanDateLog and then saves the cleaned data to a new CSV file."
   ]
  },
  {
   "cell_type": "code",
   "execution_count": 6,
   "id": "f2613923",
   "metadata": {},
   "outputs": [],
   "source": [
    "def cleanUserData():    \n",
    "    user = pd.read_csv('users.csv', index_col = 0)\n",
    "    users = user.copy()\n",
    "\n",
    "    users['_id'] = clean_id_cpg(id_data=users, column=\"_id\")\n",
    "    users['createdDate'] = cleanDateLog(id_data=users, column=\"createdDate\")\n",
    "    users[\"lastLogin\"] = cleanDateLog(id_data=users, column=\"lastLogin\")\n",
    "\n",
    "    # coversion to datetime \n",
    "    users['createdDate'] = pd.to_datetime(users['createdDate'])\n",
    "    users[\"lastLogin\"] = pd.to_datetime(users['lastLogin'])\n",
    "    users = users.rename(columns = {'_id':'user_id'}, inplace = False)\n",
    "    users.to_csv('users_cleaned.csv')\n",
    "    \n",
    "    return users"
   ]
  },
  {
   "cell_type": "code",
   "execution_count": 7,
   "id": "9102933e",
   "metadata": {},
   "outputs": [],
   "source": [
    "users = cleanUserData()"
   ]
  },
  {
   "cell_type": "code",
   "execution_count": 8,
   "id": "988218bc",
   "metadata": {},
   "outputs": [
    {
     "data": {
      "text/html": [
       "<div>\n",
       "<style scoped>\n",
       "    .dataframe tbody tr th:only-of-type {\n",
       "        vertical-align: middle;\n",
       "    }\n",
       "\n",
       "    .dataframe tbody tr th {\n",
       "        vertical-align: top;\n",
       "    }\n",
       "\n",
       "    .dataframe thead th {\n",
       "        text-align: right;\n",
       "    }\n",
       "</style>\n",
       "<table border=\"1\" class=\"dataframe\">\n",
       "  <thead>\n",
       "    <tr style=\"text-align: right;\">\n",
       "      <th></th>\n",
       "      <th>user_id</th>\n",
       "      <th>active</th>\n",
       "      <th>createdDate</th>\n",
       "      <th>lastLogin</th>\n",
       "      <th>role</th>\n",
       "      <th>signUpSource</th>\n",
       "      <th>state</th>\n",
       "    </tr>\n",
       "  </thead>\n",
       "  <tbody>\n",
       "    <tr>\n",
       "      <th>0</th>\n",
       "      <td>5ff1e194b6a9d73a3a9f1052</td>\n",
       "      <td>True</td>\n",
       "      <td>2021-01-03</td>\n",
       "      <td>2021-01-03</td>\n",
       "      <td>consumer</td>\n",
       "      <td>Email</td>\n",
       "      <td>WI</td>\n",
       "    </tr>\n",
       "    <tr>\n",
       "      <th>1</th>\n",
       "      <td>5ff1e194b6a9d73a3a9f1052</td>\n",
       "      <td>True</td>\n",
       "      <td>2021-01-03</td>\n",
       "      <td>2021-01-03</td>\n",
       "      <td>consumer</td>\n",
       "      <td>Email</td>\n",
       "      <td>WI</td>\n",
       "    </tr>\n",
       "    <tr>\n",
       "      <th>2</th>\n",
       "      <td>5ff1e194b6a9d73a3a9f1052</td>\n",
       "      <td>True</td>\n",
       "      <td>2021-01-03</td>\n",
       "      <td>2021-01-03</td>\n",
       "      <td>consumer</td>\n",
       "      <td>Email</td>\n",
       "      <td>WI</td>\n",
       "    </tr>\n",
       "    <tr>\n",
       "      <th>3</th>\n",
       "      <td>5ff1e1eacfcf6c399c274ae6</td>\n",
       "      <td>True</td>\n",
       "      <td>2021-01-03</td>\n",
       "      <td>2021-01-03</td>\n",
       "      <td>consumer</td>\n",
       "      <td>Email</td>\n",
       "      <td>WI</td>\n",
       "    </tr>\n",
       "    <tr>\n",
       "      <th>4</th>\n",
       "      <td>5ff1e194b6a9d73a3a9f1052</td>\n",
       "      <td>True</td>\n",
       "      <td>2021-01-03</td>\n",
       "      <td>2021-01-03</td>\n",
       "      <td>consumer</td>\n",
       "      <td>Email</td>\n",
       "      <td>WI</td>\n",
       "    </tr>\n",
       "  </tbody>\n",
       "</table>\n",
       "</div>"
      ],
      "text/plain": [
       "                    user_id  active createdDate  lastLogin      role  \\\n",
       "0  5ff1e194b6a9d73a3a9f1052    True  2021-01-03 2021-01-03  consumer   \n",
       "1  5ff1e194b6a9d73a3a9f1052    True  2021-01-03 2021-01-03  consumer   \n",
       "2  5ff1e194b6a9d73a3a9f1052    True  2021-01-03 2021-01-03  consumer   \n",
       "3  5ff1e1eacfcf6c399c274ae6    True  2021-01-03 2021-01-03  consumer   \n",
       "4  5ff1e194b6a9d73a3a9f1052    True  2021-01-03 2021-01-03  consumer   \n",
       "\n",
       "  signUpSource state  \n",
       "0        Email    WI  \n",
       "1        Email    WI  \n",
       "2        Email    WI  \n",
       "3        Email    WI  \n",
       "4        Email    WI  "
      ]
     },
     "execution_count": 8,
     "metadata": {},
     "output_type": "execute_result"
    }
   ],
   "source": [
    "users.head()"
   ]
  },
  {
   "cell_type": "markdown",
   "id": "2f7d6efb",
   "metadata": {},
   "source": [
    "## Receipt  \n",
    "### Cleaning and Conversion"
   ]
  },
  {
   "cell_type": "code",
   "execution_count": 9,
   "id": "925a8820",
   "metadata": {},
   "outputs": [],
   "source": [
    "# Concerting dates\n",
    "def convert_dates(data_frame):\n",
    "    new_df = data_frame.copy()\n",
    "    column_list = list(new_df.columns)\n",
    "    date_columns = column_list[3:10]\n",
    "    date_columns.remove(column_list[8])\n",
    "    \n",
    "    for date_col in date_columns:\n",
    "        new_df[date_col] = cleanDateLog(id_data=new_df, column=date_col)\n",
    "        \n",
    "    return new_df\n"
   ]
  },
  {
   "cell_type": "code",
   "execution_count": 10,
   "id": "3b714304",
   "metadata": {},
   "outputs": [],
   "source": [
    "# cleaning the ids column\n",
    "def cleanReceipt():\n",
    "    \n",
    "    receipts = pd.read_csv('receipts.csv', index_col = 0)\n",
    "    receipts = convert_dates(receipts)\n",
    "    receipts['_id'] = cleanIdCpg(receipts, column = '_id')\n",
    "    receipts = receipts.drop('rewardsReceiptItemList', axis = 1)\n",
    "    \n",
    "    return receipts"
   ]
  },
  {
   "cell_type": "markdown",
   "id": "d6db7f3b",
   "metadata": {},
   "source": [
    "####  The goal of the below function is to clean and process date columns, convert IDs, and save the modified data back to the CSV file"
   ]
  },
  {
   "cell_type": "code",
   "execution_count": 11,
   "id": "3c37b548",
   "metadata": {},
   "outputs": [],
   "source": [
    "def process_receipts():\n",
    "    receipts = pd.read_csv('receipts.csv', index_col=0)\n",
    "    receipts = convert_dates(receipts)\n",
    "    receipts['_id'] = clean_id_cpg(receipts, column='_id')\n",
    "    receipts = receipts.rename(columns={'_id': 'receipt_id'}, inplace=False)\n",
    "    \n",
    "    date_columns = ['createDate', 'dateScanned', 'finishedDate', 'purchaseDate', 'purchaseDate']\n",
    "    for col in date_columns:\n",
    "        receipts[col] = pd.to_datetime(receipts[col])\n",
    "    \n",
    "    print(receipts)\n",
    "    receipts.to_csv('receipts.csv')\n",
    "    \n",
    "    return receipts\n"
   ]
  },
  {
   "cell_type": "code",
   "execution_count": 12,
   "id": "93da26dc",
   "metadata": {},
   "outputs": [
    {
     "name": "stdout",
     "output_type": "stream",
     "text": [
      "                    receipt_id  bonusPointsEarned  \\\n",
      "0     5ff1e1eb0a720f0523000575              500.0   \n",
      "1     5ff1e1bb0a720f052300056b              150.0   \n",
      "2     5ff1e1f10a720f052300057a                5.0   \n",
      "3     5ff1e1ee0a7214ada100056f                5.0   \n",
      "4     5ff1e1d20a7214ada1000561                5.0   \n",
      "...                        ...                ...   \n",
      "1114  603cc0630a720fde100003e6               25.0   \n",
      "1115  603d0b710a720fde1000042a                NaN   \n",
      "1116  603cf5290a720fde10000413                NaN   \n",
      "1117  603ce7100a7217c72c000405               25.0   \n",
      "1118  603c4fea0a7217c72c000389                NaN   \n",
      "\n",
      "                                bonusPointsEarnedReason createDate  \\\n",
      "0     Receipt number 2 completed, bonus point schedu... 2021-01-03   \n",
      "1     Receipt number 5 completed, bonus point schedu... 2021-01-03   \n",
      "2                            All-receipts receipt bonus 2021-01-03   \n",
      "3                            All-receipts receipt bonus 2021-01-03   \n",
      "4                            All-receipts receipt bonus 2021-01-03   \n",
      "...                                                 ...        ...   \n",
      "1114                        COMPLETE_NONPARTNER_RECEIPT 2021-03-01   \n",
      "1115                                                NaN 2021-03-01   \n",
      "1116                                                NaN 2021-03-01   \n",
      "1117                        COMPLETE_NONPARTNER_RECEIPT 2021-03-01   \n",
      "1118                                                NaN 2021-03-01   \n",
      "\n",
      "     dateScanned finishedDate  modifyDate pointsAwardedDate  pointsEarned  \\\n",
      "0     2021-01-03   2021-01-03  01/03/2021        01/03/2021         500.0   \n",
      "1     2021-01-03   2021-01-03  01/03/2021        01/03/2021         150.0   \n",
      "2     2021-01-03          NaT  01/03/2021               nan           5.0   \n",
      "3     2021-01-03   2021-01-03  01/03/2021        01/03/2021           5.0   \n",
      "4     2021-01-03   2021-01-03  01/03/2021        01/03/2021           5.0   \n",
      "...          ...          ...         ...               ...           ...   \n",
      "1114  2021-03-01          NaT  03/01/2021               nan          25.0   \n",
      "1115  2021-03-01          NaT  03/01/2021               nan           NaN   \n",
      "1116  2021-03-01          NaT  03/01/2021               nan           NaN   \n",
      "1117  2021-03-01          NaT  03/01/2021               nan          25.0   \n",
      "1118  2021-03-01          NaT  03/01/2021               nan           NaN   \n",
      "\n",
      "     purchaseDate  purchasedItemCount  \\\n",
      "0      2021-01-03                 5.0   \n",
      "1      2021-01-02                 2.0   \n",
      "2      2021-01-03                 1.0   \n",
      "3      2021-01-03                 4.0   \n",
      "4      2021-01-02                 2.0   \n",
      "...           ...                 ...   \n",
      "1114   2020-08-17                 2.0   \n",
      "1115          NaT                 NaN   \n",
      "1116          NaT                 NaN   \n",
      "1117   2020-08-17                 2.0   \n",
      "1118          NaT                 NaN   \n",
      "\n",
      "                                 rewardsReceiptItemList rewardsReceiptStatus  \\\n",
      "0     [{'barcode': '4011', 'description': 'ITEM NOT ...             FINISHED   \n",
      "1     [{'barcode': '4011', 'description': 'ITEM NOT ...             FINISHED   \n",
      "2     [{'needsFetchReview': False, 'partnerItemId': ...             REJECTED   \n",
      "3     [{'barcode': '4011', 'description': 'ITEM NOT ...             FINISHED   \n",
      "4     [{'barcode': '4011', 'description': 'ITEM NOT ...             FINISHED   \n",
      "...                                                 ...                  ...   \n",
      "1114  [{'barcode': 'B076FJ92M4', 'description': 'mue...             REJECTED   \n",
      "1115                                                NaN            SUBMITTED   \n",
      "1116                                                NaN            SUBMITTED   \n",
      "1117  [{'barcode': 'B076FJ92M4', 'description': 'mue...             REJECTED   \n",
      "1118                                                NaN            SUBMITTED   \n",
      "\n",
      "      totalSpent                    userId  \n",
      "0          26.00  5ff1e1eacfcf6c399c274ae6  \n",
      "1          11.00  5ff1e194b6a9d73a3a9f1052  \n",
      "2          10.00  5ff1e1f1cfcf6c399c274b0b  \n",
      "3          28.00  5ff1e1eacfcf6c399c274ae6  \n",
      "4           1.00  5ff1e194b6a9d73a3a9f1052  \n",
      "...          ...                       ...  \n",
      "1114       34.96  5fc961c3b8cfca11a077dd33  \n",
      "1115         NaN  5fc961c3b8cfca11a077dd33  \n",
      "1116         NaN  5fc961c3b8cfca11a077dd33  \n",
      "1117       34.96  5fc961c3b8cfca11a077dd33  \n",
      "1118         NaN  5fc961c3b8cfca11a077dd33  \n",
      "\n",
      "[1119 rows x 15 columns]\n"
     ]
    }
   ],
   "source": [
    "receipts = process_receipts()"
   ]
  },
  {
   "cell_type": "code",
   "execution_count": 13,
   "id": "ffadc3fb",
   "metadata": {},
   "outputs": [
    {
     "data": {
      "text/html": [
       "<div>\n",
       "<style scoped>\n",
       "    .dataframe tbody tr th:only-of-type {\n",
       "        vertical-align: middle;\n",
       "    }\n",
       "\n",
       "    .dataframe tbody tr th {\n",
       "        vertical-align: top;\n",
       "    }\n",
       "\n",
       "    .dataframe thead th {\n",
       "        text-align: right;\n",
       "    }\n",
       "</style>\n",
       "<table border=\"1\" class=\"dataframe\">\n",
       "  <thead>\n",
       "    <tr style=\"text-align: right;\">\n",
       "      <th></th>\n",
       "      <th>receipt_id</th>\n",
       "      <th>bonusPointsEarned</th>\n",
       "      <th>bonusPointsEarnedReason</th>\n",
       "      <th>createDate</th>\n",
       "      <th>dateScanned</th>\n",
       "      <th>finishedDate</th>\n",
       "      <th>modifyDate</th>\n",
       "      <th>pointsAwardedDate</th>\n",
       "      <th>pointsEarned</th>\n",
       "      <th>purchaseDate</th>\n",
       "      <th>purchasedItemCount</th>\n",
       "      <th>rewardsReceiptItemList</th>\n",
       "      <th>rewardsReceiptStatus</th>\n",
       "      <th>totalSpent</th>\n",
       "      <th>userId</th>\n",
       "    </tr>\n",
       "  </thead>\n",
       "  <tbody>\n",
       "    <tr>\n",
       "      <th>0</th>\n",
       "      <td>5ff1e1eb0a720f0523000575</td>\n",
       "      <td>500.0</td>\n",
       "      <td>Receipt number 2 completed, bonus point schedu...</td>\n",
       "      <td>2021-01-03</td>\n",
       "      <td>2021-01-03</td>\n",
       "      <td>2021-01-03</td>\n",
       "      <td>01/03/2021</td>\n",
       "      <td>01/03/2021</td>\n",
       "      <td>500.0</td>\n",
       "      <td>2021-01-03</td>\n",
       "      <td>5.0</td>\n",
       "      <td>[{'barcode': '4011', 'description': 'ITEM NOT ...</td>\n",
       "      <td>FINISHED</td>\n",
       "      <td>26.0</td>\n",
       "      <td>5ff1e1eacfcf6c399c274ae6</td>\n",
       "    </tr>\n",
       "    <tr>\n",
       "      <th>1</th>\n",
       "      <td>5ff1e1bb0a720f052300056b</td>\n",
       "      <td>150.0</td>\n",
       "      <td>Receipt number 5 completed, bonus point schedu...</td>\n",
       "      <td>2021-01-03</td>\n",
       "      <td>2021-01-03</td>\n",
       "      <td>2021-01-03</td>\n",
       "      <td>01/03/2021</td>\n",
       "      <td>01/03/2021</td>\n",
       "      <td>150.0</td>\n",
       "      <td>2021-01-02</td>\n",
       "      <td>2.0</td>\n",
       "      <td>[{'barcode': '4011', 'description': 'ITEM NOT ...</td>\n",
       "      <td>FINISHED</td>\n",
       "      <td>11.0</td>\n",
       "      <td>5ff1e194b6a9d73a3a9f1052</td>\n",
       "    </tr>\n",
       "    <tr>\n",
       "      <th>2</th>\n",
       "      <td>5ff1e1f10a720f052300057a</td>\n",
       "      <td>5.0</td>\n",
       "      <td>All-receipts receipt bonus</td>\n",
       "      <td>2021-01-03</td>\n",
       "      <td>2021-01-03</td>\n",
       "      <td>NaT</td>\n",
       "      <td>01/03/2021</td>\n",
       "      <td>nan</td>\n",
       "      <td>5.0</td>\n",
       "      <td>2021-01-03</td>\n",
       "      <td>1.0</td>\n",
       "      <td>[{'needsFetchReview': False, 'partnerItemId': ...</td>\n",
       "      <td>REJECTED</td>\n",
       "      <td>10.0</td>\n",
       "      <td>5ff1e1f1cfcf6c399c274b0b</td>\n",
       "    </tr>\n",
       "    <tr>\n",
       "      <th>3</th>\n",
       "      <td>5ff1e1ee0a7214ada100056f</td>\n",
       "      <td>5.0</td>\n",
       "      <td>All-receipts receipt bonus</td>\n",
       "      <td>2021-01-03</td>\n",
       "      <td>2021-01-03</td>\n",
       "      <td>2021-01-03</td>\n",
       "      <td>01/03/2021</td>\n",
       "      <td>01/03/2021</td>\n",
       "      <td>5.0</td>\n",
       "      <td>2021-01-03</td>\n",
       "      <td>4.0</td>\n",
       "      <td>[{'barcode': '4011', 'description': 'ITEM NOT ...</td>\n",
       "      <td>FINISHED</td>\n",
       "      <td>28.0</td>\n",
       "      <td>5ff1e1eacfcf6c399c274ae6</td>\n",
       "    </tr>\n",
       "    <tr>\n",
       "      <th>4</th>\n",
       "      <td>5ff1e1d20a7214ada1000561</td>\n",
       "      <td>5.0</td>\n",
       "      <td>All-receipts receipt bonus</td>\n",
       "      <td>2021-01-03</td>\n",
       "      <td>2021-01-03</td>\n",
       "      <td>2021-01-03</td>\n",
       "      <td>01/03/2021</td>\n",
       "      <td>01/03/2021</td>\n",
       "      <td>5.0</td>\n",
       "      <td>2021-01-02</td>\n",
       "      <td>2.0</td>\n",
       "      <td>[{'barcode': '4011', 'description': 'ITEM NOT ...</td>\n",
       "      <td>FINISHED</td>\n",
       "      <td>1.0</td>\n",
       "      <td>5ff1e194b6a9d73a3a9f1052</td>\n",
       "    </tr>\n",
       "  </tbody>\n",
       "</table>\n",
       "</div>"
      ],
      "text/plain": [
       "                 receipt_id  bonusPointsEarned  \\\n",
       "0  5ff1e1eb0a720f0523000575              500.0   \n",
       "1  5ff1e1bb0a720f052300056b              150.0   \n",
       "2  5ff1e1f10a720f052300057a                5.0   \n",
       "3  5ff1e1ee0a7214ada100056f                5.0   \n",
       "4  5ff1e1d20a7214ada1000561                5.0   \n",
       "\n",
       "                             bonusPointsEarnedReason createDate dateScanned  \\\n",
       "0  Receipt number 2 completed, bonus point schedu... 2021-01-03  2021-01-03   \n",
       "1  Receipt number 5 completed, bonus point schedu... 2021-01-03  2021-01-03   \n",
       "2                         All-receipts receipt bonus 2021-01-03  2021-01-03   \n",
       "3                         All-receipts receipt bonus 2021-01-03  2021-01-03   \n",
       "4                         All-receipts receipt bonus 2021-01-03  2021-01-03   \n",
       "\n",
       "  finishedDate  modifyDate pointsAwardedDate  pointsEarned purchaseDate  \\\n",
       "0   2021-01-03  01/03/2021        01/03/2021         500.0   2021-01-03   \n",
       "1   2021-01-03  01/03/2021        01/03/2021         150.0   2021-01-02   \n",
       "2          NaT  01/03/2021               nan           5.0   2021-01-03   \n",
       "3   2021-01-03  01/03/2021        01/03/2021           5.0   2021-01-03   \n",
       "4   2021-01-03  01/03/2021        01/03/2021           5.0   2021-01-02   \n",
       "\n",
       "   purchasedItemCount                             rewardsReceiptItemList  \\\n",
       "0                 5.0  [{'barcode': '4011', 'description': 'ITEM NOT ...   \n",
       "1                 2.0  [{'barcode': '4011', 'description': 'ITEM NOT ...   \n",
       "2                 1.0  [{'needsFetchReview': False, 'partnerItemId': ...   \n",
       "3                 4.0  [{'barcode': '4011', 'description': 'ITEM NOT ...   \n",
       "4                 2.0  [{'barcode': '4011', 'description': 'ITEM NOT ...   \n",
       "\n",
       "  rewardsReceiptStatus  totalSpent                    userId  \n",
       "0             FINISHED        26.0  5ff1e1eacfcf6c399c274ae6  \n",
       "1             FINISHED        11.0  5ff1e194b6a9d73a3a9f1052  \n",
       "2             REJECTED        10.0  5ff1e1f1cfcf6c399c274b0b  \n",
       "3             FINISHED        28.0  5ff1e1eacfcf6c399c274ae6  \n",
       "4             FINISHED         1.0  5ff1e194b6a9d73a3a9f1052  "
      ]
     },
     "execution_count": 13,
     "metadata": {},
     "output_type": "execute_result"
    }
   ],
   "source": [
    "receipts.head()"
   ]
  },
  {
   "cell_type": "code",
   "execution_count": 15,
   "id": "599a6157",
   "metadata": {},
   "outputs": [
    {
     "data": {
      "text/html": [
       "<div>\n",
       "<style scoped>\n",
       "    .dataframe tbody tr th:only-of-type {\n",
       "        vertical-align: middle;\n",
       "    }\n",
       "\n",
       "    .dataframe tbody tr th {\n",
       "        vertical-align: top;\n",
       "    }\n",
       "\n",
       "    .dataframe thead th {\n",
       "        text-align: right;\n",
       "    }\n",
       "</style>\n",
       "<table border=\"1\" class=\"dataframe\">\n",
       "  <thead>\n",
       "    <tr style=\"text-align: right;\">\n",
       "      <th></th>\n",
       "      <th>bonusPointsEarned</th>\n",
       "      <th>bonusPointsEarnedReason</th>\n",
       "      <th>pointsEarned</th>\n",
       "      <th>purchasedItemCount</th>\n",
       "      <th>rewardsReceiptItemList</th>\n",
       "      <th>rewardsReceiptStatus</th>\n",
       "      <th>totalSpent</th>\n",
       "      <th>userId</th>\n",
       "      <th>_id.$oid</th>\n",
       "      <th>createDate.$date</th>\n",
       "      <th>dateScanned.$date</th>\n",
       "      <th>finishedDate.$date</th>\n",
       "      <th>modifyDate.$date</th>\n",
       "      <th>pointsAwardedDate.$date</th>\n",
       "      <th>purchaseDate.$date</th>\n",
       "    </tr>\n",
       "  </thead>\n",
       "  <tbody>\n",
       "    <tr>\n",
       "      <th>0</th>\n",
       "      <td>500.0</td>\n",
       "      <td>Receipt number 2 completed, bonus point schedu...</td>\n",
       "      <td>500.0</td>\n",
       "      <td>5.0</td>\n",
       "      <td>[{'barcode': '4011', 'description': 'ITEM NOT ...</td>\n",
       "      <td>FINISHED</td>\n",
       "      <td>26.00</td>\n",
       "      <td>5ff1e1eacfcf6c399c274ae6</td>\n",
       "      <td>5ff1e1eb0a720f0523000575</td>\n",
       "      <td>1609687531000</td>\n",
       "      <td>1609687531000</td>\n",
       "      <td>1.609688e+12</td>\n",
       "      <td>1609687536000</td>\n",
       "      <td>1.609688e+12</td>\n",
       "      <td>1.609632e+12</td>\n",
       "    </tr>\n",
       "    <tr>\n",
       "      <th>1</th>\n",
       "      <td>150.0</td>\n",
       "      <td>Receipt number 5 completed, bonus point schedu...</td>\n",
       "      <td>150.0</td>\n",
       "      <td>2.0</td>\n",
       "      <td>[{'barcode': '4011', 'description': 'ITEM NOT ...</td>\n",
       "      <td>FINISHED</td>\n",
       "      <td>11.00</td>\n",
       "      <td>5ff1e194b6a9d73a3a9f1052</td>\n",
       "      <td>5ff1e1bb0a720f052300056b</td>\n",
       "      <td>1609687483000</td>\n",
       "      <td>1609687483000</td>\n",
       "      <td>1.609687e+12</td>\n",
       "      <td>1609687488000</td>\n",
       "      <td>1.609687e+12</td>\n",
       "      <td>1.609601e+12</td>\n",
       "    </tr>\n",
       "    <tr>\n",
       "      <th>2</th>\n",
       "      <td>5.0</td>\n",
       "      <td>All-receipts receipt bonus</td>\n",
       "      <td>5</td>\n",
       "      <td>1.0</td>\n",
       "      <td>[{'needsFetchReview': False, 'partnerItemId': ...</td>\n",
       "      <td>REJECTED</td>\n",
       "      <td>10.00</td>\n",
       "      <td>5ff1e1f1cfcf6c399c274b0b</td>\n",
       "      <td>5ff1e1f10a720f052300057a</td>\n",
       "      <td>1609687537000</td>\n",
       "      <td>1609687537000</td>\n",
       "      <td>NaN</td>\n",
       "      <td>1609687542000</td>\n",
       "      <td>NaN</td>\n",
       "      <td>1.609632e+12</td>\n",
       "    </tr>\n",
       "    <tr>\n",
       "      <th>3</th>\n",
       "      <td>5.0</td>\n",
       "      <td>All-receipts receipt bonus</td>\n",
       "      <td>5.0</td>\n",
       "      <td>4.0</td>\n",
       "      <td>[{'barcode': '4011', 'description': 'ITEM NOT ...</td>\n",
       "      <td>FINISHED</td>\n",
       "      <td>28.00</td>\n",
       "      <td>5ff1e1eacfcf6c399c274ae6</td>\n",
       "      <td>5ff1e1ee0a7214ada100056f</td>\n",
       "      <td>1609687534000</td>\n",
       "      <td>1609687534000</td>\n",
       "      <td>1.609688e+12</td>\n",
       "      <td>1609687539000</td>\n",
       "      <td>1.609688e+12</td>\n",
       "      <td>1.609632e+12</td>\n",
       "    </tr>\n",
       "    <tr>\n",
       "      <th>4</th>\n",
       "      <td>5.0</td>\n",
       "      <td>All-receipts receipt bonus</td>\n",
       "      <td>5.0</td>\n",
       "      <td>2.0</td>\n",
       "      <td>[{'barcode': '4011', 'description': 'ITEM NOT ...</td>\n",
       "      <td>FINISHED</td>\n",
       "      <td>1.00</td>\n",
       "      <td>5ff1e194b6a9d73a3a9f1052</td>\n",
       "      <td>5ff1e1d20a7214ada1000561</td>\n",
       "      <td>1609687506000</td>\n",
       "      <td>1609687506000</td>\n",
       "      <td>1.609688e+12</td>\n",
       "      <td>1609687511000</td>\n",
       "      <td>1.609688e+12</td>\n",
       "      <td>1.609601e+12</td>\n",
       "    </tr>\n",
       "  </tbody>\n",
       "</table>\n",
       "</div>"
      ],
      "text/plain": [
       "   bonusPointsEarned                            bonusPointsEarnedReason  \\\n",
       "0              500.0  Receipt number 2 completed, bonus point schedu...   \n",
       "1              150.0  Receipt number 5 completed, bonus point schedu...   \n",
       "2                5.0                         All-receipts receipt bonus   \n",
       "3                5.0                         All-receipts receipt bonus   \n",
       "4                5.0                         All-receipts receipt bonus   \n",
       "\n",
       "  pointsEarned  purchasedItemCount  \\\n",
       "0        500.0                 5.0   \n",
       "1        150.0                 2.0   \n",
       "2            5                 1.0   \n",
       "3          5.0                 4.0   \n",
       "4          5.0                 2.0   \n",
       "\n",
       "                              rewardsReceiptItemList rewardsReceiptStatus  \\\n",
       "0  [{'barcode': '4011', 'description': 'ITEM NOT ...             FINISHED   \n",
       "1  [{'barcode': '4011', 'description': 'ITEM NOT ...             FINISHED   \n",
       "2  [{'needsFetchReview': False, 'partnerItemId': ...             REJECTED   \n",
       "3  [{'barcode': '4011', 'description': 'ITEM NOT ...             FINISHED   \n",
       "4  [{'barcode': '4011', 'description': 'ITEM NOT ...             FINISHED   \n",
       "\n",
       "  totalSpent                    userId                  _id.$oid  \\\n",
       "0      26.00  5ff1e1eacfcf6c399c274ae6  5ff1e1eb0a720f0523000575   \n",
       "1      11.00  5ff1e194b6a9d73a3a9f1052  5ff1e1bb0a720f052300056b   \n",
       "2      10.00  5ff1e1f1cfcf6c399c274b0b  5ff1e1f10a720f052300057a   \n",
       "3      28.00  5ff1e1eacfcf6c399c274ae6  5ff1e1ee0a7214ada100056f   \n",
       "4       1.00  5ff1e194b6a9d73a3a9f1052  5ff1e1d20a7214ada1000561   \n",
       "\n",
       "   createDate.$date  dateScanned.$date  finishedDate.$date  modifyDate.$date  \\\n",
       "0     1609687531000      1609687531000        1.609688e+12     1609687536000   \n",
       "1     1609687483000      1609687483000        1.609687e+12     1609687488000   \n",
       "2     1609687537000      1609687537000                 NaN     1609687542000   \n",
       "3     1609687534000      1609687534000        1.609688e+12     1609687539000   \n",
       "4     1609687506000      1609687506000        1.609688e+12     1609687511000   \n",
       "\n",
       "   pointsAwardedDate.$date  purchaseDate.$date  \n",
       "0             1.609688e+12        1.609632e+12  \n",
       "1             1.609687e+12        1.609601e+12  \n",
       "2                      NaN        1.609632e+12  \n",
       "3             1.609688e+12        1.609632e+12  \n",
       "4             1.609688e+12        1.609601e+12  "
      ]
     },
     "execution_count": 15,
     "metadata": {},
     "output_type": "execute_result"
    }
   ],
   "source": [
    "df_data = []\n",
    "with gzip.open(\"receipts.json.gz\") as data:\n",
    "    for i in data:\n",
    "        df_data.append(json.loads(i.strip()))\n",
    "    receiptsdf = pd.json_normalize(df_data)\n",
    "receiptsdf.head()"
   ]
  },
  {
   "cell_type": "code",
   "execution_count": 16,
   "id": "95dd3ea1",
   "metadata": {},
   "outputs": [],
   "source": [
    "receiptsdf=receiptsdf.rename(columns= {\n",
    "        '_id.$oid' : 'receiptId',\n",
    "        'createDate.$date' : 'receipt_createDate',\n",
    "        'dateScanned.$date' : 'receipt_ScannedDate',\n",
    "        'finishedDate.$date' : 'receipt_finishedDate',\n",
    "        'modifyDate.$date' : 'receipt_modifyDate',\n",
    "        'pointsAwardedDate.$date' : 'pointsAwardedDate',\n",
    "        'purchaseDate.$date' : 'purchaseDate'})"
   ]
  },
  {
   "cell_type": "code",
   "execution_count": 17,
   "id": "5bb229a8",
   "metadata": {},
   "outputs": [
    {
     "name": "stdout",
     "output_type": "stream",
     "text": [
      "Total Records: 1119\n",
      "Null Records: 440\n"
     ]
    }
   ],
   "source": [
    "# Checking for Nulls\n",
    "print(f'Total Records: {len(receiptsdf[\"rewardsReceiptItemList\"])}')\n",
    "print(f'Null Records: {receiptsdf[\"rewardsReceiptItemList\"].isnull().sum()}')"
   ]
  },
  {
   "cell_type": "code",
   "execution_count": 18,
   "id": "82f208bc",
   "metadata": {},
   "outputs": [],
   "source": [
    "# Removing all the Null values\n",
    "receiptsdf['rewardsReceiptItemList']= receiptsdf['rewardsReceiptItemList'].replace(np.nan,0)"
   ]
  },
  {
   "cell_type": "code",
   "execution_count": 19,
   "id": "fd2e6de0",
   "metadata": {},
   "outputs": [
    {
     "name": "stdout",
     "output_type": "stream",
     "text": [
      "Total Records: 1119\n",
      "Null Records: 0\n"
     ]
    }
   ],
   "source": [
    "# After Removal of Null values\n",
    "print(f'Total Records: {receiptsdf[\"rewardsReceiptItemList\"].count()}')\n",
    "print(f'Null Records: {receiptsdf[\"rewardsReceiptItemList\"].isnull().sum()}')"
   ]
  },
  {
   "cell_type": "markdown",
   "id": "13767b6a",
   "metadata": {},
   "source": [
    "### Flattening of nested JSON which is inside the Receipt  into a new dataframe.  \n",
    "#### Created new dataframe ordersdf which has products and quantity along with the prices for each item"
   ]
  },
  {
   "cell_type": "code",
   "execution_count": 30,
   "id": "68b700ef",
   "metadata": {},
   "outputs": [
    {
     "data": {
      "text/html": [
       "<div>\n",
       "<style scoped>\n",
       "    .dataframe tbody tr th:only-of-type {\n",
       "        vertical-align: middle;\n",
       "    }\n",
       "\n",
       "    .dataframe tbody tr th {\n",
       "        vertical-align: top;\n",
       "    }\n",
       "\n",
       "    .dataframe thead th {\n",
       "        text-align: right;\n",
       "    }\n",
       "</style>\n",
       "<table border=\"1\" class=\"dataframe\">\n",
       "  <thead>\n",
       "    <tr style=\"text-align: right;\">\n",
       "      <th></th>\n",
       "      <th>barcode</th>\n",
       "      <th>description</th>\n",
       "      <th>finalPrice</th>\n",
       "      <th>itemPrice</th>\n",
       "      <th>needsFetchReview</th>\n",
       "      <th>partnerItemId</th>\n",
       "      <th>preventTargetGapPoints</th>\n",
       "      <th>quantityPurchased</th>\n",
       "      <th>userFlaggedBarcode</th>\n",
       "      <th>userFlaggedNewItem</th>\n",
       "      <th>...</th>\n",
       "      <th>itemNumber</th>\n",
       "      <th>originalMetaBriteQuantityPurchased</th>\n",
       "      <th>pointsEarned</th>\n",
       "      <th>targetPrice</th>\n",
       "      <th>competitiveProduct</th>\n",
       "      <th>originalFinalPrice</th>\n",
       "      <th>originalMetaBriteItemPrice</th>\n",
       "      <th>deleted</th>\n",
       "      <th>priceAfterCoupon</th>\n",
       "      <th>metabriteCampaignId</th>\n",
       "    </tr>\n",
       "  </thead>\n",
       "  <tbody>\n",
       "    <tr>\n",
       "      <th>0</th>\n",
       "      <td>4011</td>\n",
       "      <td>ITEM NOT FOUND</td>\n",
       "      <td>26.00</td>\n",
       "      <td>26.00</td>\n",
       "      <td>False</td>\n",
       "      <td>1</td>\n",
       "      <td>True</td>\n",
       "      <td>5.0</td>\n",
       "      <td>4011</td>\n",
       "      <td>True</td>\n",
       "      <td>...</td>\n",
       "      <td>NaN</td>\n",
       "      <td>NaN</td>\n",
       "      <td>NaN</td>\n",
       "      <td>NaN</td>\n",
       "      <td>NaN</td>\n",
       "      <td>NaN</td>\n",
       "      <td>NaN</td>\n",
       "      <td>NaN</td>\n",
       "      <td>NaN</td>\n",
       "      <td>NaN</td>\n",
       "    </tr>\n",
       "    <tr>\n",
       "      <th>1</th>\n",
       "      <td>4011</td>\n",
       "      <td>ITEM NOT FOUND</td>\n",
       "      <td>1</td>\n",
       "      <td>1</td>\n",
       "      <td>NaN</td>\n",
       "      <td>1</td>\n",
       "      <td>NaN</td>\n",
       "      <td>1.0</td>\n",
       "      <td>NaN</td>\n",
       "      <td>NaN</td>\n",
       "      <td>...</td>\n",
       "      <td>NaN</td>\n",
       "      <td>NaN</td>\n",
       "      <td>NaN</td>\n",
       "      <td>NaN</td>\n",
       "      <td>NaN</td>\n",
       "      <td>NaN</td>\n",
       "      <td>NaN</td>\n",
       "      <td>NaN</td>\n",
       "      <td>NaN</td>\n",
       "      <td>NaN</td>\n",
       "    </tr>\n",
       "    <tr>\n",
       "      <th>2</th>\n",
       "      <td>028400642255</td>\n",
       "      <td>DORITOS TORTILLA CHIP SPICY SWEET CHILI REDUCE...</td>\n",
       "      <td>10.00</td>\n",
       "      <td>10.00</td>\n",
       "      <td>True</td>\n",
       "      <td>2</td>\n",
       "      <td>True</td>\n",
       "      <td>1.0</td>\n",
       "      <td>028400642255</td>\n",
       "      <td>True</td>\n",
       "      <td>...</td>\n",
       "      <td>NaN</td>\n",
       "      <td>NaN</td>\n",
       "      <td>NaN</td>\n",
       "      <td>NaN</td>\n",
       "      <td>NaN</td>\n",
       "      <td>NaN</td>\n",
       "      <td>NaN</td>\n",
       "      <td>NaN</td>\n",
       "      <td>NaN</td>\n",
       "      <td>NaN</td>\n",
       "    </tr>\n",
       "    <tr>\n",
       "      <th>3</th>\n",
       "      <td>NaN</td>\n",
       "      <td>NaN</td>\n",
       "      <td>NaN</td>\n",
       "      <td>NaN</td>\n",
       "      <td>False</td>\n",
       "      <td>1</td>\n",
       "      <td>True</td>\n",
       "      <td>NaN</td>\n",
       "      <td>4011</td>\n",
       "      <td>True</td>\n",
       "      <td>...</td>\n",
       "      <td>NaN</td>\n",
       "      <td>NaN</td>\n",
       "      <td>NaN</td>\n",
       "      <td>NaN</td>\n",
       "      <td>NaN</td>\n",
       "      <td>NaN</td>\n",
       "      <td>NaN</td>\n",
       "      <td>NaN</td>\n",
       "      <td>NaN</td>\n",
       "      <td>NaN</td>\n",
       "    </tr>\n",
       "    <tr>\n",
       "      <th>4</th>\n",
       "      <td>4011</td>\n",
       "      <td>ITEM NOT FOUND</td>\n",
       "      <td>28.00</td>\n",
       "      <td>28.00</td>\n",
       "      <td>False</td>\n",
       "      <td>1</td>\n",
       "      <td>True</td>\n",
       "      <td>4.0</td>\n",
       "      <td>4011</td>\n",
       "      <td>True</td>\n",
       "      <td>...</td>\n",
       "      <td>NaN</td>\n",
       "      <td>NaN</td>\n",
       "      <td>NaN</td>\n",
       "      <td>NaN</td>\n",
       "      <td>NaN</td>\n",
       "      <td>NaN</td>\n",
       "      <td>NaN</td>\n",
       "      <td>NaN</td>\n",
       "      <td>NaN</td>\n",
       "      <td>NaN</td>\n",
       "    </tr>\n",
       "  </tbody>\n",
       "</table>\n",
       "<p>5 rows × 35 columns</p>\n",
       "</div>"
      ],
      "text/plain": [
       "        barcode                                        description finalPrice  \\\n",
       "0          4011                                     ITEM NOT FOUND      26.00   \n",
       "1          4011                                     ITEM NOT FOUND          1   \n",
       "2  028400642255  DORITOS TORTILLA CHIP SPICY SWEET CHILI REDUCE...      10.00   \n",
       "3           NaN                                                NaN        NaN   \n",
       "4          4011                                     ITEM NOT FOUND      28.00   \n",
       "\n",
       "  itemPrice needsFetchReview partnerItemId preventTargetGapPoints  \\\n",
       "0     26.00            False             1                   True   \n",
       "1         1              NaN             1                    NaN   \n",
       "2     10.00             True             2                   True   \n",
       "3       NaN            False             1                   True   \n",
       "4     28.00            False             1                   True   \n",
       "\n",
       "   quantityPurchased userFlaggedBarcode userFlaggedNewItem  ... itemNumber  \\\n",
       "0                5.0               4011               True  ...        NaN   \n",
       "1                1.0                NaN                NaN  ...        NaN   \n",
       "2                1.0       028400642255               True  ...        NaN   \n",
       "3                NaN               4011               True  ...        NaN   \n",
       "4                4.0               4011               True  ...        NaN   \n",
       "\n",
       "   originalMetaBriteQuantityPurchased pointsEarned targetPrice  \\\n",
       "0                                 NaN          NaN         NaN   \n",
       "1                                 NaN          NaN         NaN   \n",
       "2                                 NaN          NaN         NaN   \n",
       "3                                 NaN          NaN         NaN   \n",
       "4                                 NaN          NaN         NaN   \n",
       "\n",
       "  competitiveProduct originalFinalPrice originalMetaBriteItemPrice deleted  \\\n",
       "0                NaN                NaN                        NaN     NaN   \n",
       "1                NaN                NaN                        NaN     NaN   \n",
       "2                NaN                NaN                        NaN     NaN   \n",
       "3                NaN                NaN                        NaN     NaN   \n",
       "4                NaN                NaN                        NaN     NaN   \n",
       "\n",
       "  priceAfterCoupon metabriteCampaignId  \n",
       "0              NaN                 NaN  \n",
       "1              NaN                 NaN  \n",
       "2              NaN                 NaN  \n",
       "3              NaN                 NaN  \n",
       "4              NaN                 NaN  \n",
       "\n",
       "[5 rows x 35 columns]"
      ]
     },
     "execution_count": 30,
     "metadata": {},
     "output_type": "execute_result"
    }
   ],
   "source": [
    "cntr=1\n",
    "receipt_ids=[]\n",
    "data=[]\n",
    "for i in range(len(receiptsdf.rewardsReceiptItemList)):\n",
    "    if receiptsdf.rewardsReceiptItemList[i] != 0:\n",
    "        for items in receiptsdf.rewardsReceiptItemList[i]:\n",
    "            items['receipt_id']=str(cntr)\n",
    "            data.append(items)\n",
    "        receipt_ids.append(items['receipt_id'])\n",
    "        cntr = cntr + 1\n",
    "    else:\n",
    "        receipt_ids.append('0')\n",
    "\n",
    "ordersdf=pd.DataFrame.from_dict(data)\n",
    "ordersdf.head()"
   ]
  },
  {
   "cell_type": "code",
   "execution_count": 21,
   "id": "3f9191b0",
   "metadata": {},
   "outputs": [],
   "source": [
    "receipts.drop(columns=['rewardsReceiptItemList'],inplace=True)"
   ]
  },
  {
   "cell_type": "markdown",
   "id": "5dc7e01d",
   "metadata": {},
   "source": [
    "## Brands  \n",
    "### Cleaning and Conversion"
   ]
  },
  {
   "cell_type": "code",
   "execution_count": 27,
   "id": "5a16525a",
   "metadata": {},
   "outputs": [],
   "source": [
    "df_data = []\n",
    "with gzip.open(\"brands.json.gz\") as data:\n",
    "    for i in data:\n",
    "        df_data.append(json.loads(i.strip()))\n",
    "    brands = pd.json_normalize(df_data)"
   ]
  },
  {
   "cell_type": "code",
   "execution_count": 29,
   "id": "eba36b9f",
   "metadata": {},
   "outputs": [
    {
     "data": {
      "text/html": [
       "<div>\n",
       "<style scoped>\n",
       "    .dataframe tbody tr th:only-of-type {\n",
       "        vertical-align: middle;\n",
       "    }\n",
       "\n",
       "    .dataframe tbody tr th {\n",
       "        vertical-align: top;\n",
       "    }\n",
       "\n",
       "    .dataframe thead th {\n",
       "        text-align: right;\n",
       "    }\n",
       "</style>\n",
       "<table border=\"1\" class=\"dataframe\">\n",
       "  <thead>\n",
       "    <tr style=\"text-align: right;\">\n",
       "      <th></th>\n",
       "      <th>barcode</th>\n",
       "      <th>category</th>\n",
       "      <th>categoryCode</th>\n",
       "      <th>name</th>\n",
       "      <th>topBrand</th>\n",
       "      <th>brand_id</th>\n",
       "      <th>cpg_id</th>\n",
       "      <th>cpg_ref</th>\n",
       "      <th>brandCode</th>\n",
       "    </tr>\n",
       "  </thead>\n",
       "  <tbody>\n",
       "    <tr>\n",
       "      <th>0</th>\n",
       "      <td>511111019862</td>\n",
       "      <td>Baking</td>\n",
       "      <td>BAKING</td>\n",
       "      <td>test brand @1612366101024</td>\n",
       "      <td>False</td>\n",
       "      <td>601ac115be37ce2ead437551</td>\n",
       "      <td>601ac114be37ce2ead437550</td>\n",
       "      <td>Cogs</td>\n",
       "      <td>NaN</td>\n",
       "    </tr>\n",
       "    <tr>\n",
       "      <th>1</th>\n",
       "      <td>511111519928</td>\n",
       "      <td>Beverages</td>\n",
       "      <td>BEVERAGES</td>\n",
       "      <td>Starbucks</td>\n",
       "      <td>False</td>\n",
       "      <td>601c5460be37ce2ead43755f</td>\n",
       "      <td>5332f5fbe4b03c9a25efd0ba</td>\n",
       "      <td>Cogs</td>\n",
       "      <td>STARBUCKS</td>\n",
       "    </tr>\n",
       "    <tr>\n",
       "      <th>2</th>\n",
       "      <td>511111819905</td>\n",
       "      <td>Baking</td>\n",
       "      <td>BAKING</td>\n",
       "      <td>test brand @1612366146176</td>\n",
       "      <td>False</td>\n",
       "      <td>601ac142be37ce2ead43755d</td>\n",
       "      <td>601ac142be37ce2ead437559</td>\n",
       "      <td>Cogs</td>\n",
       "      <td>TEST BRANDCODE @1612366146176</td>\n",
       "    </tr>\n",
       "    <tr>\n",
       "      <th>3</th>\n",
       "      <td>511111519874</td>\n",
       "      <td>Baking</td>\n",
       "      <td>BAKING</td>\n",
       "      <td>test brand @1612366146051</td>\n",
       "      <td>False</td>\n",
       "      <td>601ac142be37ce2ead43755a</td>\n",
       "      <td>601ac142be37ce2ead437559</td>\n",
       "      <td>Cogs</td>\n",
       "      <td>TEST BRANDCODE @1612366146051</td>\n",
       "    </tr>\n",
       "    <tr>\n",
       "      <th>4</th>\n",
       "      <td>511111319917</td>\n",
       "      <td>Candy &amp; Sweets</td>\n",
       "      <td>CANDY_AND_SWEETS</td>\n",
       "      <td>test brand @1612366146827</td>\n",
       "      <td>False</td>\n",
       "      <td>601ac142be37ce2ead43755e</td>\n",
       "      <td>5332fa12e4b03c9a25efd1e7</td>\n",
       "      <td>Cogs</td>\n",
       "      <td>TEST BRANDCODE @1612366146827</td>\n",
       "    </tr>\n",
       "  </tbody>\n",
       "</table>\n",
       "</div>"
      ],
      "text/plain": [
       "        barcode        category      categoryCode                       name  \\\n",
       "0  511111019862          Baking            BAKING  test brand @1612366101024   \n",
       "1  511111519928       Beverages         BEVERAGES                  Starbucks   \n",
       "2  511111819905          Baking            BAKING  test brand @1612366146176   \n",
       "3  511111519874          Baking            BAKING  test brand @1612366146051   \n",
       "4  511111319917  Candy & Sweets  CANDY_AND_SWEETS  test brand @1612366146827   \n",
       "\n",
       "  topBrand                  brand_id                    cpg_id cpg_ref  \\\n",
       "0    False  601ac115be37ce2ead437551  601ac114be37ce2ead437550    Cogs   \n",
       "1    False  601c5460be37ce2ead43755f  5332f5fbe4b03c9a25efd0ba    Cogs   \n",
       "2    False  601ac142be37ce2ead43755d  601ac142be37ce2ead437559    Cogs   \n",
       "3    False  601ac142be37ce2ead43755a  601ac142be37ce2ead437559    Cogs   \n",
       "4    False  601ac142be37ce2ead43755e  5332fa12e4b03c9a25efd1e7    Cogs   \n",
       "\n",
       "                       brandCode  \n",
       "0                            NaN  \n",
       "1                      STARBUCKS  \n",
       "2  TEST BRANDCODE @1612366146176  \n",
       "3  TEST BRANDCODE @1612366146051  \n",
       "4  TEST BRANDCODE @1612366146827  "
      ]
     },
     "execution_count": 29,
     "metadata": {},
     "output_type": "execute_result"
    }
   ],
   "source": [
    "brands=brands.rename(columns={'_id.$oid':'brand_id',brands.columns[-3]: 'cpg_id','cpg.$ref' : 'cpg_ref'})\n",
    "brands.head(5)"
   ]
  },
  {
   "cell_type": "markdown",
   "id": "60cd2eed",
   "metadata": {},
   "source": [
    "# Part 3: Data Quality Checks"
   ]
  },
  {
   "cell_type": "code",
   "execution_count": 35,
   "id": "fe518d17",
   "metadata": {},
   "outputs": [
    {
     "data": {
      "text/html": [
       "<div>\n",
       "<style scoped>\n",
       "    .dataframe tbody tr th:only-of-type {\n",
       "        vertical-align: middle;\n",
       "    }\n",
       "\n",
       "    .dataframe tbody tr th {\n",
       "        vertical-align: top;\n",
       "    }\n",
       "\n",
       "    .dataframe thead th {\n",
       "        text-align: right;\n",
       "    }\n",
       "</style>\n",
       "<table border=\"1\" class=\"dataframe\">\n",
       "  <thead>\n",
       "    <tr style=\"text-align: right;\">\n",
       "      <th></th>\n",
       "      <th>user_id</th>\n",
       "      <th>active</th>\n",
       "      <th>createdDate</th>\n",
       "      <th>lastLogin</th>\n",
       "      <th>role</th>\n",
       "      <th>signUpSource</th>\n",
       "      <th>state</th>\n",
       "    </tr>\n",
       "  </thead>\n",
       "  <tbody>\n",
       "    <tr>\n",
       "      <th>0</th>\n",
       "      <td>5ff1e194b6a9d73a3a9f1052</td>\n",
       "      <td>True</td>\n",
       "      <td>2021-01-03</td>\n",
       "      <td>2021-01-03</td>\n",
       "      <td>consumer</td>\n",
       "      <td>Email</td>\n",
       "      <td>WI</td>\n",
       "    </tr>\n",
       "    <tr>\n",
       "      <th>1</th>\n",
       "      <td>5ff1e194b6a9d73a3a9f1052</td>\n",
       "      <td>True</td>\n",
       "      <td>2021-01-03</td>\n",
       "      <td>2021-01-03</td>\n",
       "      <td>consumer</td>\n",
       "      <td>Email</td>\n",
       "      <td>WI</td>\n",
       "    </tr>\n",
       "    <tr>\n",
       "      <th>2</th>\n",
       "      <td>5ff1e194b6a9d73a3a9f1052</td>\n",
       "      <td>True</td>\n",
       "      <td>2021-01-03</td>\n",
       "      <td>2021-01-03</td>\n",
       "      <td>consumer</td>\n",
       "      <td>Email</td>\n",
       "      <td>WI</td>\n",
       "    </tr>\n",
       "    <tr>\n",
       "      <th>3</th>\n",
       "      <td>5ff1e1eacfcf6c399c274ae6</td>\n",
       "      <td>True</td>\n",
       "      <td>2021-01-03</td>\n",
       "      <td>2021-01-03</td>\n",
       "      <td>consumer</td>\n",
       "      <td>Email</td>\n",
       "      <td>WI</td>\n",
       "    </tr>\n",
       "    <tr>\n",
       "      <th>4</th>\n",
       "      <td>5ff1e194b6a9d73a3a9f1052</td>\n",
       "      <td>True</td>\n",
       "      <td>2021-01-03</td>\n",
       "      <td>2021-01-03</td>\n",
       "      <td>consumer</td>\n",
       "      <td>Email</td>\n",
       "      <td>WI</td>\n",
       "    </tr>\n",
       "  </tbody>\n",
       "</table>\n",
       "</div>"
      ],
      "text/plain": [
       "                    user_id  active createdDate  lastLogin      role  \\\n",
       "0  5ff1e194b6a9d73a3a9f1052    True  2021-01-03 2021-01-03  consumer   \n",
       "1  5ff1e194b6a9d73a3a9f1052    True  2021-01-03 2021-01-03  consumer   \n",
       "2  5ff1e194b6a9d73a3a9f1052    True  2021-01-03 2021-01-03  consumer   \n",
       "3  5ff1e1eacfcf6c399c274ae6    True  2021-01-03 2021-01-03  consumer   \n",
       "4  5ff1e194b6a9d73a3a9f1052    True  2021-01-03 2021-01-03  consumer   \n",
       "\n",
       "  signUpSource state  \n",
       "0        Email    WI  \n",
       "1        Email    WI  \n",
       "2        Email    WI  \n",
       "3        Email    WI  \n",
       "4        Email    WI  "
      ]
     },
     "execution_count": 35,
     "metadata": {},
     "output_type": "execute_result"
    }
   ],
   "source": [
    "users.head()"
   ]
  },
  {
   "cell_type": "code",
   "execution_count": 39,
   "id": "1768202a",
   "metadata": {},
   "outputs": [
    {
     "data": {
      "text/plain": [
       "user_id          0\n",
       "active           0\n",
       "createdDate      0\n",
       "lastLogin       62\n",
       "role             0\n",
       "signUpSource    48\n",
       "state           56\n",
       "dtype: int64"
      ]
     },
     "execution_count": 39,
     "metadata": {},
     "output_type": "execute_result"
    }
   ],
   "source": [
    "users.isna().sum()"
   ]
  },
  {
   "cell_type": "markdown",
   "id": "fcfd9d5c",
   "metadata": {},
   "source": [
    "*As shown above 3 columns have Null values which might affect the analysis. So, it is always a good practice to remove the Null values or replace the Null values with Mean or Median to avoid misinterpretations.*"
   ]
  },
  {
   "cell_type": "markdown",
   "id": "17065947",
   "metadata": {},
   "source": [
    "### Checking for Duplicates"
   ]
  },
  {
   "cell_type": "code",
   "execution_count": 40,
   "id": "602e9996",
   "metadata": {},
   "outputs": [
    {
     "data": {
      "text/plain": [
       "user_id         212\n",
       "active            2\n",
       "createdDate      42\n",
       "lastLogin        30\n",
       "role              2\n",
       "signUpSource      2\n",
       "state             8\n",
       "dtype: int64"
      ]
     },
     "execution_count": 40,
     "metadata": {},
     "output_type": "execute_result"
    }
   ],
   "source": [
    "users.nunique()"
   ]
  },
  {
   "cell_type": "code",
   "execution_count": 43,
   "id": "05f6936b",
   "metadata": {},
   "outputs": [
    {
     "data": {
      "text/plain": [
       "(495, 7)"
      ]
     },
     "execution_count": 43,
     "metadata": {},
     "output_type": "execute_result"
    }
   ],
   "source": [
    "users.shape"
   ]
  },
  {
   "cell_type": "markdown",
   "id": "1826e485",
   "metadata": {},
   "source": [
    "*Out of 495 only 212 user_id are unique. This creates a major data quality issue since for users table user_id is primary key and for it to be primary key all the values should be unique. Hence this will create issue will joining the tables and also while analysis.*"
   ]
  },
  {
   "cell_type": "code",
   "execution_count": 47,
   "id": "b7bf9687",
   "metadata": {},
   "outputs": [
    {
     "data": {
      "text/plain": [
       "receipt_id                   0\n",
       "bonusPointsEarned          575\n",
       "bonusPointsEarnedReason    575\n",
       "createDate                   0\n",
       "dateScanned                  0\n",
       "finishedDate               551\n",
       "modifyDate                   0\n",
       "pointsAwardedDate            0\n",
       "pointsEarned               510\n",
       "purchaseDate               448\n",
       "purchasedItemCount         484\n",
       "rewardsReceiptStatus         0\n",
       "totalSpent                 435\n",
       "userId                       0\n",
       "dtype: int64"
      ]
     },
     "execution_count": 47,
     "metadata": {},
     "output_type": "execute_result"
    }
   ],
   "source": [
    "receipts.isna().sum()"
   ]
  },
  {
   "cell_type": "markdown",
   "id": "682bbc58",
   "metadata": {},
   "source": [
    "*7 out of 14 columns have missing value. This needs to removed or addressed by replacing Null values with Mean or Median.*"
   ]
  },
  {
   "cell_type": "code",
   "execution_count": 49,
   "id": "ea853158",
   "metadata": {},
   "outputs": [
    {
     "name": "stdout",
     "output_type": "stream",
     "text": [
      "1119\n"
     ]
    },
    {
     "data": {
      "text/plain": [
       "receipt_id                 1119\n",
       "bonusPointsEarned            12\n",
       "bonusPointsEarnedReason       9\n",
       "createDate                   49\n",
       "dateScanned                  49\n",
       "finishedDate                 36\n",
       "modifyDate                   42\n",
       "pointsAwardedDate            39\n",
       "pointsEarned                119\n",
       "purchaseDate                 69\n",
       "purchasedItemCount           50\n",
       "rewardsReceiptStatus          5\n",
       "totalSpent                   94\n",
       "userId                      258\n",
       "dtype: int64"
      ]
     },
     "execution_count": 49,
     "metadata": {},
     "output_type": "execute_result"
    }
   ],
   "source": [
    "print(len(receipts))\n",
    "receipts.nunique()"
   ]
  },
  {
   "cell_type": "markdown",
   "id": "019bd1ad",
   "metadata": {},
   "source": [
    "*receipt_id serves as a primary key and it does not have duplicate values and Null values.*"
   ]
  },
  {
   "cell_type": "code",
   "execution_count": 50,
   "id": "666f05f7",
   "metadata": {},
   "outputs": [
    {
     "name": "stdout",
     "output_type": "stream",
     "text": [
      "1167\n"
     ]
    }
   ],
   "source": [
    "print(len(brands))"
   ]
  },
  {
   "cell_type": "code",
   "execution_count": 51,
   "id": "42b7a954",
   "metadata": {},
   "outputs": [
    {
     "data": {
      "text/plain": [
       "barcode           0\n",
       "category        155\n",
       "categoryCode    650\n",
       "name              0\n",
       "topBrand        612\n",
       "brand_id          0\n",
       "cpg_id            0\n",
       "cpg_ref           0\n",
       "brandCode       234\n",
       "dtype: int64"
      ]
     },
     "execution_count": 51,
     "metadata": {},
     "output_type": "execute_result"
    }
   ],
   "source": [
    "brands.isna().sum()"
   ]
  },
  {
   "cell_type": "code",
   "execution_count": 52,
   "id": "990bdf09",
   "metadata": {},
   "outputs": [
    {
     "data": {
      "text/plain": [
       "barcode         1160\n",
       "category          23\n",
       "categoryCode      14\n",
       "name            1156\n",
       "topBrand           2\n",
       "brand_id        1167\n",
       "cpg_id           196\n",
       "cpg_ref            2\n",
       "brandCode        897\n",
       "dtype: int64"
      ]
     },
     "execution_count": 52,
     "metadata": {},
     "output_type": "execute_result"
    }
   ],
   "source": [
    "brands.nunique()"
   ]
  },
  {
   "cell_type": "markdown",
   "id": "986642c9",
   "metadata": {},
   "source": [
    "*brand_id(primary key) has no Null and duplicate value which is ideally perfect.  \n",
    "However almost half values of topBrand are missing.*"
   ]
  },
  {
   "cell_type": "markdown",
   "id": "bedb3685",
   "metadata": {},
   "source": [
    "*Rewards receipt items list uses a nested dictionary, which can make data cleansing more difficult, particularly when a receipt item lacks an associated id that would allow us to identify which user's receipt item it was.*  \n",
    "\n",
    " *Purchased Date has NAT values which caused issue if time series analysis has to done.*\n"
   ]
  },
  {
   "cell_type": "markdown",
   "id": "0a7030c6",
   "metadata": {},
   "source": [
    "### In Orders data 173 products dont have description. This can be misleading and can hamper analysis."
   ]
  },
  {
   "cell_type": "code",
   "execution_count": 65,
   "id": "cc4b3d1b",
   "metadata": {},
   "outputs": [],
   "source": [
    "itemnotfound=Ordersdf[Ordersdf['description'] == \"ITEM NOT FOUND\"]"
   ]
  },
  {
   "cell_type": "code",
   "execution_count": 66,
   "id": "9eabddc8",
   "metadata": {},
   "outputs": [
    {
     "data": {
      "text/plain": [
       "description\n",
       "ITEM NOT FOUND    173\n",
       "Name: description, dtype: int64"
      ]
     },
     "execution_count": 66,
     "metadata": {},
     "output_type": "execute_result"
    }
   ],
   "source": [
    "itemnotfound.groupby(\"description\")['description'].count()"
   ]
  },
  {
   "cell_type": "markdown",
   "id": "ded9983c",
   "metadata": {},
   "source": [
    "### 54 brand code has the value same as barcode value."
   ]
  },
  {
   "cell_type": "code",
   "execution_count": 75,
   "id": "cf48a274",
   "metadata": {},
   "outputs": [],
   "source": [
    "samecode = brands[brands['barcode'] == brands['brandCode']]"
   ]
  },
  {
   "cell_type": "code",
   "execution_count": 77,
   "id": "57656013",
   "metadata": {},
   "outputs": [
    {
     "data": {
      "text/html": [
       "<div>\n",
       "<style scoped>\n",
       "    .dataframe tbody tr th:only-of-type {\n",
       "        vertical-align: middle;\n",
       "    }\n",
       "\n",
       "    .dataframe tbody tr th {\n",
       "        vertical-align: top;\n",
       "    }\n",
       "\n",
       "    .dataframe thead th {\n",
       "        text-align: right;\n",
       "    }\n",
       "</style>\n",
       "<table border=\"1\" class=\"dataframe\">\n",
       "  <thead>\n",
       "    <tr style=\"text-align: right;\">\n",
       "      <th></th>\n",
       "      <th>barcode</th>\n",
       "      <th>category</th>\n",
       "      <th>categoryCode</th>\n",
       "      <th>name</th>\n",
       "      <th>topBrand</th>\n",
       "      <th>brand_id</th>\n",
       "      <th>cpg_id</th>\n",
       "      <th>cpg_ref</th>\n",
       "      <th>brandCode</th>\n",
       "    </tr>\n",
       "  </thead>\n",
       "  <tbody>\n",
       "    <tr>\n",
       "      <th>13</th>\n",
       "      <td>511111205012</td>\n",
       "      <td>Magazines</td>\n",
       "      <td>NaN</td>\n",
       "      <td>Entertainment Weekly</td>\n",
       "      <td>NaN</td>\n",
       "      <td>5d6413156d5f3b23d1bc790a</td>\n",
       "      <td>5d5d4fd16d5f3b23d1bc7905</td>\n",
       "      <td>Cogs</td>\n",
       "      <td>511111205012</td>\n",
       "    </tr>\n",
       "    <tr>\n",
       "      <th>27</th>\n",
       "      <td>511111105329</td>\n",
       "      <td>Magazines</td>\n",
       "      <td>NaN</td>\n",
       "      <td>Elegant Homes Magazine</td>\n",
       "      <td>NaN</td>\n",
       "      <td>5d66d71fa3a018093ab34728</td>\n",
       "      <td>5d5d4fd16d5f3b23d1bc7905</td>\n",
       "      <td>Cogs</td>\n",
       "      <td>511111105329</td>\n",
       "    </tr>\n",
       "    <tr>\n",
       "      <th>44</th>\n",
       "      <td>511111505365</td>\n",
       "      <td>Magazines</td>\n",
       "      <td>NaN</td>\n",
       "      <td>Magnolia Journal Magazine</td>\n",
       "      <td>NaN</td>\n",
       "      <td>5d66d94d6d5f3b6188d4f04b</td>\n",
       "      <td>5d5d4fd16d5f3b23d1bc7905</td>\n",
       "      <td>Cogs</td>\n",
       "      <td>511111505365</td>\n",
       "    </tr>\n",
       "    <tr>\n",
       "      <th>64</th>\n",
       "      <td>511111805854</td>\n",
       "      <td>Health &amp; Wellness</td>\n",
       "      <td>NaN</td>\n",
       "      <td>ONE A DAY® WOMENS</td>\n",
       "      <td>False</td>\n",
       "      <td>5da609991dda2c3e1416ae90</td>\n",
       "      <td>53e10d6368abd3c7065097cc</td>\n",
       "      <td>Cogs</td>\n",
       "      <td>511111805854</td>\n",
       "    </tr>\n",
       "    <tr>\n",
       "      <th>134</th>\n",
       "      <td>511111305569</td>\n",
       "      <td>Health &amp; Wellness</td>\n",
       "      <td>NaN</td>\n",
       "      <td>AFRIN® NO DRIP PUMP MISTS</td>\n",
       "      <td>NaN</td>\n",
       "      <td>5da60576a60b87376833e349</td>\n",
       "      <td>53e10d6368abd3c7065097cc</td>\n",
       "      <td>Cogs</td>\n",
       "      <td>511111305569</td>\n",
       "    </tr>\n",
       "  </tbody>\n",
       "</table>\n",
       "</div>"
      ],
      "text/plain": [
       "          barcode           category categoryCode                       name  \\\n",
       "13   511111205012          Magazines          NaN       Entertainment Weekly   \n",
       "27   511111105329          Magazines          NaN     Elegant Homes Magazine   \n",
       "44   511111505365          Magazines          NaN  Magnolia Journal Magazine   \n",
       "64   511111805854  Health & Wellness          NaN          ONE A DAY® WOMENS   \n",
       "134  511111305569  Health & Wellness          NaN  AFRIN® NO DRIP PUMP MISTS   \n",
       "\n",
       "    topBrand                  brand_id                    cpg_id cpg_ref  \\\n",
       "13       NaN  5d6413156d5f3b23d1bc790a  5d5d4fd16d5f3b23d1bc7905    Cogs   \n",
       "27       NaN  5d66d71fa3a018093ab34728  5d5d4fd16d5f3b23d1bc7905    Cogs   \n",
       "44       NaN  5d66d94d6d5f3b6188d4f04b  5d5d4fd16d5f3b23d1bc7905    Cogs   \n",
       "64     False  5da609991dda2c3e1416ae90  53e10d6368abd3c7065097cc    Cogs   \n",
       "134      NaN  5da60576a60b87376833e349  53e10d6368abd3c7065097cc    Cogs   \n",
       "\n",
       "        brandCode  \n",
       "13   511111205012  \n",
       "27   511111105329  \n",
       "44   511111505365  \n",
       "64   511111805854  \n",
       "134  511111305569  "
      ]
     },
     "execution_count": 77,
     "metadata": {},
     "output_type": "execute_result"
    }
   ],
   "source": [
    "samecode.head(5)"
   ]
  },
  {
   "cell_type": "code",
   "execution_count": 76,
   "id": "fff0f1a8",
   "metadata": {},
   "outputs": [
    {
     "name": "stdout",
     "output_type": "stream",
     "text": [
      "54\n"
     ]
    }
   ],
   "source": [
    "print(len(samecode))"
   ]
  },
  {
   "cell_type": "markdown",
   "id": "d1aa81a7",
   "metadata": {},
   "source": [
    "### Purchase date is later than receipt create Date in Receipts Dataset"
   ]
  },
  {
   "cell_type": "code",
   "execution_count": 81,
   "id": "fe3e1c26",
   "metadata": {},
   "outputs": [
    {
     "name": "stdout",
     "output_type": "stream",
     "text": [
      "                  purchaseDate                 dateScanned\n",
      "0   2021-02-03 00:00:00.000000  2021-01-03 00:00:00.000000\n",
      "1   2021-02-03 00:00:00.000000  2021-01-03 00:00:00.000000\n",
      "2   2021-02-05 00:00:00.000000  2021-01-05 00:00:00.000000\n",
      "3   2021-02-07 00:00:00.000000  2021-01-07 00:00:00.000000\n",
      "4   2021-02-08 00:00:00.000000  2021-01-08 00:00:00.000000\n",
      "5   2021-02-11 00:00:00.000000  2021-01-11 00:00:00.000000\n",
      "6   2021-02-13 00:00:00.000000  2021-01-13 00:00:00.000000\n",
      "7   2021-02-13 00:00:00.000000  2021-01-13 00:00:00.000000\n",
      "8   2021-02-14 00:00:00.000000  2021-01-14 00:00:00.000000\n",
      "9   2021-02-20 00:00:00.000000  2021-01-20 00:00:00.000000\n",
      "10  2021-02-28 00:00:00.000000  2021-01-29 00:00:00.000000\n",
      "11  2021-03-01 00:00:00.000000  2021-02-01 00:00:00.000000\n",
      "12  2021-03-08 00:00:00.000000  2021-02-08 00:00:00.000000\n"
     ]
    }
   ],
   "source": [
    "\n",
    "print(psql.sqldf(\"\"\"select purchaseDate,dateScanned\n",
    "                    from receipts where purchaseDate > dateScanned\n",
    "                    \"\"\"))"
   ]
  },
  {
   "cell_type": "code",
   "execution_count": null,
   "id": "1911d3c0",
   "metadata": {},
   "outputs": [],
   "source": []
  }
 ],
 "metadata": {
  "kernelspec": {
   "display_name": "Python 3 (ipykernel)",
   "language": "python",
   "name": "python3"
  },
  "language_info": {
   "codemirror_mode": {
    "name": "ipython",
    "version": 3
   },
   "file_extension": ".py",
   "mimetype": "text/x-python",
   "name": "python",
   "nbconvert_exporter": "python",
   "pygments_lexer": "ipython3",
   "version": "3.9.7"
  }
 },
 "nbformat": 4,
 "nbformat_minor": 5
}
