{
 "cells": [
  {
   "cell_type": "code",
   "execution_count": 114,
   "id": "83598f3d",
   "metadata": {},
   "outputs": [],
   "source": [
    "from pandasql import sqldf\n",
    "import datetime as dt\n",
    "import pandas as pd\n",
    "import numpy as np\n",
    "import seaborn as sns\n",
    "import matplotlib.pyplot as plt\n",
    "sns.set(style=\"whitegrid\")\n",
    "from datetime import datetime, timedelta\n"
   ]
  },
  {
   "cell_type": "code",
   "execution_count": 115,
   "id": "1e422d8c",
   "metadata": {},
   "outputs": [],
   "source": [
    "#pip install pandasql"
   ]
  },
  {
   "cell_type": "code",
   "execution_count": 116,
   "id": "cc1b2b16",
   "metadata": {},
   "outputs": [],
   "source": [
    "pysqldf = lambda q: sqldf(q, globals())"
   ]
  },
  {
   "cell_type": "code",
   "execution_count": 118,
   "id": "f0aa6d6b",
   "metadata": {},
   "outputs": [],
   "source": [
    "users = pd.read_csv('cleaned/users.csv', index_col = 0)\n",
    "brands = pd.read_csv('cleaned/brands.csv', index_col = 0)\n",
    "receipt = pd.read_csv('cleaned/receipts.csv', index_col = 0)\n",
    "receiptItem = pd.read_pickle('cleaned/receiptitems.zip')\n",
    "users['createdDate'] = pd.to_datetime(users['createdDate'])\n",
    "date_col = ['createDate','dateScanned','finishedDate','purchaseDate','purchaseDate']\n",
    "for col in date_col:\n",
    "    receipt[f'{col}'] = pd.to_datetime(receipt[f'{col}'])"
   ]
  },
  {
   "cell_type": "code",
   "execution_count": 119,
   "id": "88193c81",
   "metadata": {},
   "outputs": [
    {
     "data": {
      "text/plain": [
       "Index(['receipt_id', 'barcode', 'description', 'finalPrice', 'itemPrice',\n",
       "       'needsFetchReview', 'partnerItemId', 'preventTargetGapPoints',\n",
       "       'quantityPurchased', 'userFlaggedNewItem', 'userFlaggedPrice',\n",
       "       'userFlaggedQuantity', 'needsFetchReviewReason',\n",
       "       'pointsNotAwardedReason', 'pointsPayerId', 'rewardsGroup',\n",
       "       'rewardsProductPartnerId', 'originalMetaBriteBarcode',\n",
       "       'originalMetaBriteDescription', 'brandCode', 'competitorRewardsGroup',\n",
       "       'discountedItemPrice', 'originalReceiptItemText'],\n",
       "      dtype='object')"
      ]
     },
     "execution_count": 119,
     "metadata": {},
     "output_type": "execute_result"
    }
   ],
   "source": [
    "receiptItem.columns"
   ]
  },
  {
   "cell_type": "markdown",
   "id": "14b4fae3",
   "metadata": {},
   "source": [
    "## Q1: What are the top 5 brands by receipts scanned for most recent month?"
   ]
  },
  {
   "cell_type": "code",
   "execution_count": 120,
   "id": "9bacc873",
   "metadata": {},
   "outputs": [],
   "source": [
    "q1 = \"\"\"SELECT receipt.receipt_id, count(receiptItem.receipt_id) as receipt_count,\n",
    "\n",
    "        receiptItem.brandCode, receipt.dateScanned as ds\n",
    "        \n",
    "        FROM receiptItem INNER JOIN receipt\n",
    "        \n",
    "        ON receiptItem.receipt_id = receipt.receipt_id WHERE brandCode <> \"NO BRAND CODE\"\n",
    "        \n",
    "        GROUP BY brandCode ORDER BY receipt_count DESC;\"\"\"\n",
    "\n",
    "\n",
    "top_5_brands = pysqldf(q1)\n",
    "top_5_brands = top_5_brands.sort_values(by=\"ds\", ascending = False)\n",
    "top_5_brands = top_5_brands.sort_values(by=\"receipt_count\", ascending = False)"
   ]
  },
  {
   "cell_type": "code",
   "execution_count": 121,
   "id": "9b717f0e",
   "metadata": {},
   "outputs": [
    {
     "data": {
      "text/html": [
       "<div>\n",
       "<style scoped>\n",
       "    .dataframe tbody tr th:only-of-type {\n",
       "        vertical-align: middle;\n",
       "    }\n",
       "\n",
       "    .dataframe tbody tr th {\n",
       "        vertical-align: top;\n",
       "    }\n",
       "\n",
       "    .dataframe thead th {\n",
       "        text-align: right;\n",
       "    }\n",
       "</style>\n",
       "<table border=\"1\" class=\"dataframe\">\n",
       "  <thead>\n",
       "    <tr style=\"text-align: right;\">\n",
       "      <th></th>\n",
       "      <th>receipt_id</th>\n",
       "      <th>receipt_count</th>\n",
       "      <th>brandCode</th>\n",
       "      <th>ds</th>\n",
       "    </tr>\n",
       "  </thead>\n",
       "  <tbody>\n",
       "    <tr>\n",
       "      <th>0</th>\n",
       "      <td>6000b2be0a7214ad4c00004d</td>\n",
       "      <td>31624</td>\n",
       "      <td>BEN AND JERRYS</td>\n",
       "      <td>2021-01-14 00:00:00.000000</td>\n",
       "    </tr>\n",
       "    <tr>\n",
       "      <th>1</th>\n",
       "      <td>600206000a720f05f3000087</td>\n",
       "      <td>20577</td>\n",
       "      <td>HY-VEE</td>\n",
       "      <td>2021-01-15 00:00:00.000000</td>\n",
       "    </tr>\n",
       "    <tr>\n",
       "      <th>2</th>\n",
       "      <td>600206000a720f05f3000087</td>\n",
       "      <td>19737</td>\n",
       "      <td>KRAFT</td>\n",
       "      <td>2021-01-15 00:00:00.000000</td>\n",
       "    </tr>\n",
       "    <tr>\n",
       "      <th>3</th>\n",
       "      <td>5ff618e30a7214ada10005fa</td>\n",
       "      <td>14075</td>\n",
       "      <td>PEPSI</td>\n",
       "      <td>2021-01-06 00:00:00.000000</td>\n",
       "    </tr>\n",
       "    <tr>\n",
       "      <th>4</th>\n",
       "      <td>6000c8460a720f05f300006f</td>\n",
       "      <td>10799</td>\n",
       "      <td>KNORR</td>\n",
       "      <td>2021-01-14 00:00:00.000000</td>\n",
       "    </tr>\n",
       "  </tbody>\n",
       "</table>\n",
       "</div>"
      ],
      "text/plain": [
       "                 receipt_id  receipt_count       brandCode  \\\n",
       "0  6000b2be0a7214ad4c00004d          31624  BEN AND JERRYS   \n",
       "1  600206000a720f05f3000087          20577          HY-VEE   \n",
       "2  600206000a720f05f3000087          19737           KRAFT   \n",
       "3  5ff618e30a7214ada10005fa          14075           PEPSI   \n",
       "4  6000c8460a720f05f300006f          10799           KNORR   \n",
       "\n",
       "                           ds  \n",
       "0  2021-01-14 00:00:00.000000  \n",
       "1  2021-01-15 00:00:00.000000  \n",
       "2  2021-01-15 00:00:00.000000  \n",
       "3  2021-01-06 00:00:00.000000  \n",
       "4  2021-01-14 00:00:00.000000  "
      ]
     },
     "execution_count": 121,
     "metadata": {},
     "output_type": "execute_result"
    }
   ],
   "source": [
    "top_5_brands.head()"
   ]
  },
  {
   "cell_type": "code",
   "execution_count": 122,
   "id": "dee5efe3",
   "metadata": {},
   "outputs": [
    {
     "data": {
      "image/png": "[encoded data removed]",
      "text/plain": [
       "<Figure size 720x360 with 1 Axes>"
      ]
     },
     "metadata": {},
     "output_type": "display_data"
    }
   ],
   "source": [
    "fig, scatter = plt.subplots(figsize = (10,5))\n",
    "bar = sns.barplot(x=\"brandCode\", y=\"receipt_count\", data=top_5_brands.head(5) )\n",
    "bar.set_xlabel('Top 5 Brands in recent month', fontsize = 18)\n",
    "bar.set_ylabel ('Count of Receipts', fontsize = 18);"
   ]
  },
  {
   "cell_type": "markdown",
   "id": "4368554c",
   "metadata": {},
   "source": [
    "## Q2: How does the ranking of the top 5 brands by receipts scanned for the recent month compare to the ranking for the previous month?"
   ]
  },
  {
   "cell_type": "code",
   "execution_count": 123,
   "id": "45663fda",
   "metadata": {},
   "outputs": [
    {
     "name": "stdout",
     "output_type": "stream",
     "text": [
      "Empty DataFrame\n",
      "Columns: [name]\n",
      "Index: []\n"
     ]
    }
   ],
   "source": [
    "#TEST CODE\n",
    "start_date = datetime(2021, 3, 1) \n",
    "end_date = datetime(2021, 2, 1)\n",
    "\n",
    "# Convert dates to strings in the format 'YYYY-MM-DD'\n",
    "start_date_str = start_date.strftime('%Y-%m-%d')\n",
    "end_date_str = end_date.strftime('%Y-%m-%d')\n",
    "\n",
    "# SQL query\n",
    "query = f\"\"\"\n",
    "    with cte as (\n",
    "        select \n",
    "            b.name, \n",
    "            dense_rank() over(partition by strftime('%Y-%m', date(dateScanned)) order by sum(ro.quantitypurchased) desc) as ranked\n",
    "        from receiptItem ro \n",
    "            left join receipt r on cast(ro.receipt_id as text) = r.receipt_id\n",
    "            left join brands b on b.barcode = ro.barcode \n",
    "        where b.topbrand = 1\n",
    "            and date(r.dateScanned) between date('{start_date_str}') and date('{end_date_str}')\n",
    "        group by b.name\n",
    "    )\n",
    "    select \n",
    "        name\n",
    "    from cte\n",
    "    where ranked <= 5;\n",
    "\"\"\"\n",
    "\n",
    "result = pysqldf(query)\n",
    "print(result)\n",
    "\n"
   ]
  },
  {
   "cell_type": "code",
   "execution_count": null,
   "id": "8445f108",
   "metadata": {},
   "outputs": [],
   "source": []
  },
  {
   "cell_type": "markdown",
   "id": "30b10c9e",
   "metadata": {},
   "source": [
    "## Q3: When considering average spend from receipts with 'rewardsReceiptStatus’ of ‘Accepted’ or ‘Rejected’, which is greater?"
   ]
  },
  {
   "cell_type": "code",
   "execution_count": 124,
   "id": "b4fa93df",
   "metadata": {},
   "outputs": [],
   "source": [
    "q3 = \"\"\"SELECT receipt.rewardsReceiptStatus as reward_status, \n",
    "        \n",
    "        avg(receipt.totalSpent) as avg_spend\n",
    "\n",
    "        FROM receiptItem INNER JOIN receipt\n",
    "        \n",
    "        ON receiptItem.receipt_id = receipt.receipt_id GROUP BY reward_status;\"\"\"\n",
    "\n",
    "\n",
    "accepted_rejected_spend = pysqldf(q3)\n",
    "#accepted_rejected_spend = accepted_rejected_spend['reward_status'].replace('FINISHED', 'ACCEPTED')"
   ]
  },
  {
   "cell_type": "code",
   "execution_count": 125,
   "id": "3ea5c10e",
   "metadata": {},
   "outputs": [
    {
     "data": {
      "text/html": [
       "<div>\n",
       "<style scoped>\n",
       "    .dataframe tbody tr th:only-of-type {\n",
       "        vertical-align: middle;\n",
       "    }\n",
       "\n",
       "    .dataframe tbody tr th {\n",
       "        vertical-align: top;\n",
       "    }\n",
       "\n",
       "    .dataframe thead th {\n",
       "        text-align: right;\n",
       "    }\n",
       "</style>\n",
       "<table border=\"1\" class=\"dataframe\">\n",
       "  <thead>\n",
       "    <tr style=\"text-align: right;\">\n",
       "      <th></th>\n",
       "      <th>reward_status</th>\n",
       "      <th>avg_spend</th>\n",
       "    </tr>\n",
       "  </thead>\n",
       "  <tbody>\n",
       "    <tr>\n",
       "      <th>0</th>\n",
       "      <td>FINISHED</td>\n",
       "      <td>2416.713368</td>\n",
       "    </tr>\n",
       "    <tr>\n",
       "      <th>1</th>\n",
       "      <td>FLAGGED</td>\n",
       "      <td>3854.791179</td>\n",
       "    </tr>\n",
       "    <tr>\n",
       "      <th>2</th>\n",
       "      <td>REJECTED</td>\n",
       "      <td>31.432842</td>\n",
       "    </tr>\n",
       "  </tbody>\n",
       "</table>\n",
       "</div>"
      ],
      "text/plain": [
       "  reward_status    avg_spend\n",
       "0      FINISHED  2416.713368\n",
       "1       FLAGGED  3854.791179\n",
       "2      REJECTED    31.432842"
      ]
     },
     "execution_count": 125,
     "metadata": {},
     "output_type": "execute_result"
    }
   ],
   "source": [
    "accepted_rejected_spend"
   ]
  },
  {
   "cell_type": "markdown",
   "id": "f74f93bb",
   "metadata": {},
   "source": [
    "## Q4: When considering total number of items purchased from receipts with 'rewardsReceiptStatus’ of ‘Accepted’ or ‘Rejected’, which is greater?"
   ]
  },
  {
   "cell_type": "code",
   "execution_count": 126,
   "id": "fae51070",
   "metadata": {},
   "outputs": [
    {
     "name": "stdout",
     "output_type": "stream",
     "text": [
      "                                         result1\n",
      "0  Total items purchased for Rejected is greater\n"
     ]
    }
   ],
   "source": [
    "q4 = \"\"\"select \n",
    "    case when\n",
    "            (\n",
    "            sum(case when rewardsReceiptStatus = 'Accepted' then purchaseditemcount end) -\n",
    "            sum(case when rewardsReceiptStatus = 'Rejected' then purchaseditemcount end)\n",
    "            ) > 0 \n",
    "            then 'Total items purchased for Accepted is greater' \n",
    "            \n",
    "            when\n",
    "            (\n",
    "            sum(case when rewardsReceiptStatus = 'Accepted' then purchaseditemcount end) -\n",
    "            sum(case when rewardsReceiptStatus = 'Rejected' then purchaseditemcount end)\n",
    "            ) = 0 \n",
    "            then 'Both Accepted and Rejected status have same number items purchased' \n",
    "            \n",
    "            ELSE 'Total items purchased for Rejected is greater' \n",
    "            end as result1\n",
    "from receipt \"\"\"\n",
    "\n",
    "result1 = pysqldf(q4)\n",
    "print(result1)"
   ]
  },
  {
   "cell_type": "markdown",
   "id": "e23f7de8",
   "metadata": {},
   "source": [
    "## Q5: Which brand has the most spend among users who were created within the past 6 months?"
   ]
  },
  {
   "cell_type": "code",
   "execution_count": 127,
   "id": "a60ea720",
   "metadata": {},
   "outputs": [],
   "source": [
    "from datetime import datetime\n",
    "start_date = datetime(2021, 2, 2)\n",
    "end_date = datetime(2020, 7, 2)\n",
    "\n",
    "q5 = \"\"\"\n",
    "        SELECT receipt.receipt_id, users.user_id , users.createdDate, receipt.totalSpent\n",
    "        FROM receipt JOIN users\n",
    "        ON users.user_id = receipt.userId;\n",
    "        \"\"\"\n",
    "\n",
    "users_spent = pysqldf(q5)\n",
    "\n",
    "q51 = \"\"\"\n",
    "        SELECT users_spent.receipt_id, users_spent.createdDate, users_spent.totalSpent, \n",
    "        receiptItem.brandCode\n",
    "        FROM users_spent JOIN receiptItem\n",
    "        ON users_spent.receipt_id = receiptItem.receipt_id WHERE brandCode <> \"NO BRAND CODE\"\n",
    "            \n",
    "            \"\"\"\n",
    "\n",
    "users_spent1 = pysqldf(q51)\n",
    "users_spent1['createdDate'] = pd.to_datetime(users_spent1['createdDate'])\n",
    "users_spent1 = users_spent1.sort_values(by='createdDate',ascending=False).set_index('createdDate')"
   ]
  },
  {
   "cell_type": "code",
   "execution_count": 130,
   "id": "249bcb4b",
   "metadata": {},
   "outputs": [],
   "source": [
    "user_and_spents = users_spent1[(users_spent1.index <= start_date)\n",
    "                 & (users_spent1.index >= end_date)]\n",
    "user_and_spents = pd.DataFrame(user_and_spents.groupby(by='brandCode')['totalSpent'].sum().head(5))"
   ]
  },
  {
   "cell_type": "code",
   "execution_count": 131,
   "id": "4a614a64",
   "metadata": {},
   "outputs": [
    {
     "data": {
      "text/html": [
       "<div>\n",
       "<style scoped>\n",
       "    .dataframe tbody tr th:only-of-type {\n",
       "        vertical-align: middle;\n",
       "    }\n",
       "\n",
       "    .dataframe tbody tr th {\n",
       "        vertical-align: top;\n",
       "    }\n",
       "\n",
       "    .dataframe thead th {\n",
       "        text-align: right;\n",
       "    }\n",
       "</style>\n",
       "<table border=\"1\" class=\"dataframe\">\n",
       "  <thead>\n",
       "    <tr style=\"text-align: right;\">\n",
       "      <th></th>\n",
       "      <th>totalSpent</th>\n",
       "    </tr>\n",
       "    <tr>\n",
       "      <th>brandCode</th>\n",
       "      <th></th>\n",
       "    </tr>\n",
       "  </thead>\n",
       "  <tbody>\n",
       "    <tr>\n",
       "      <th>7UP</th>\n",
       "      <td>3789390.30</td>\n",
       "    </tr>\n",
       "    <tr>\n",
       "      <th>ADVIL</th>\n",
       "      <td>1235173.11</td>\n",
       "    </tr>\n",
       "    <tr>\n",
       "      <th>AMERICAN BEAUTY</th>\n",
       "      <td>6374632.50</td>\n",
       "    </tr>\n",
       "    <tr>\n",
       "      <th>ARNOLD</th>\n",
       "      <td>144295.26</td>\n",
       "    </tr>\n",
       "    <tr>\n",
       "      <th>ARROWHEAD</th>\n",
       "      <td>3789390.30</td>\n",
       "    </tr>\n",
       "  </tbody>\n",
       "</table>\n",
       "</div>"
      ],
      "text/plain": [
       "                 totalSpent\n",
       "brandCode                  \n",
       "7UP              3789390.30\n",
       "ADVIL            1235173.11\n",
       "AMERICAN BEAUTY  6374632.50\n",
       "ARNOLD            144295.26\n",
       "ARROWHEAD        3789390.30"
      ]
     },
     "execution_count": 131,
     "metadata": {},
     "output_type": "execute_result"
    }
   ],
   "source": [
    "user_and_spents"
   ]
  },
  {
   "cell_type": "markdown",
   "id": "41fe6a95",
   "metadata": {},
   "source": [
    "## Q6: Which brand has the most transactions among users who were created within the past 6 months?"
   ]
  },
  {
   "cell_type": "code",
   "execution_count": 132,
   "id": "f2a786e5",
   "metadata": {},
   "outputs": [
    {
     "name": "stdout",
     "output_type": "stream",
     "text": [
      "  brandCode  transactionCnt\n",
      "0     PEPSI           16698\n"
     ]
    }
   ],
   "source": [
    "\n",
    "start_date = datetime(2021, 2, 2)\n",
    "end_date = datetime(2020, 7, 2)\n",
    "\n",
    "# Converted dates to strings format 'YYYY-MM-DD'\n",
    "start_date_str = start_date.strftime('%Y-%m-%d')\n",
    "end_date_str = end_date.strftime('%Y-%m-%d')\n",
    "\n",
    "q6 = f\"\"\"\n",
    "    SELECT\n",
    "        b.brandCode,\n",
    "        COUNT(*) AS transactionCnt\n",
    "    FROM\n",
    "        users u\n",
    "    JOIN\n",
    "        receipt r ON u.user_id = r.userId\n",
    "    JOIN\n",
    "        receiptItem ri ON r.receipt_id = ri.receipt_id\n",
    "    JOIN\n",
    "        brands b ON ri.brandCode = b.brandCode\n",
    "    WHERE\n",
    "        u.createdDate BETWEEN '{end_date_str}' AND '{start_date_str}'\n",
    "    GROUP BY\n",
    "        b.brandCode\n",
    "    ORDER BY\n",
    "        transactionCnt DESC\n",
    "    LIMIT\n",
    "        1;\n",
    "\"\"\"\n",
    "\n",
    "result = pysqldf(q6)\n",
    "print(result)\n",
    "\n"
   ]
  }
 ],
 "metadata": {
  "kernelspec": {
   "display_name": "Python 3 (ipykernel)",
   "language": "python",
   "name": "python3"
  },
  "language_info": {
   "codemirror_mode": {
    "name": "ipython",
    "version": 3
   },
   "file_extension": ".py",
   "mimetype": "text/x-python",
   "name": "python",
   "nbconvert_exporter": "python",
   "pygments_lexer": "ipython3",
   "version": "3.9.7"
  }
 },
 "nbformat": 4,
 "nbformat_minor": 5
}
